{
 "cells": [
  {
   "cell_type": "markdown",
   "id": "f05f29c0",
   "metadata": {},
   "source": [
    "## STEP 1: DATA PRE-PROCESSING: TIỀN XỬ LÝ DỮ LIỆU"
   ]
  },
  {
   "cell_type": "code",
   "execution_count": 179,
   "id": "48e81559",
   "metadata": {},
   "outputs": [],
   "source": [
    "import pandas as pd\n",
    "import string\n",
    "import re\n",
    "from underthesea import word_tokenize\n",
    "import json"
   ]
  },
  {
   "cell_type": "markdown",
   "id": "0c8eef92",
   "metadata": {},
   "source": [
    "### Tao duong dan den dataset va doc file"
   ]
  },
  {
   "cell_type": "code",
   "execution_count": 180,
   "id": "1bf9c15c",
   "metadata": {},
   "outputs": [],
   "source": [
    "sentiment_dataset_path = \"Dataset/vietnamese_sentiment_dataset.csv\" #Duong dan den file dataset(csv)\n",
    "sentiment_data_df = pd.read_csv(sentiment_dataset_path)"
   ]
  },
  {
   "cell_type": "markdown",
   "id": "b2e4107e",
   "metadata": {},
   "source": [
    "### Loai bo text trung nhau va text/lable khong co du lieu"
   ]
  },
  {
   "cell_type": "code",
   "execution_count": 181,
   "id": "bf6afe18",
   "metadata": {},
   "outputs": [],
   "source": [
    "sentiment_data_df = sentiment_data_df.drop_duplicates(subset= ['text'])\n",
    "sentiment_data_df = sentiment_data_df.dropna(subset = ['text','label'])"
   ]
  },
  {
   "cell_type": "markdown",
   "id": "8cd6be3a",
   "metadata": {},
   "source": [
    "### Normalization: Chuẩn hóa văn bản \n"
   ]
  },
  {
   "cell_type": "code",
   "execution_count": 182,
   "id": "60f6766c",
   "metadata": {},
   "outputs": [],
   "source": [
    "# Kí tự đặc biệt\n",
    "remove_character = string.punctuation\n",
    "\n",
    "# Load toan bo emoji\n",
    "emoji_pattern = re.compile(\n",
    "    \"[\"\n",
    "    u\"\\U0001F600-\\U0001F64F\"  # Emoticons\n",
    "    u\"\\U0001F300-\\U0001F5FF\"  # Symbols & Pictographs\n",
    "    u\"\\U0001F680-\\U0001F6FF\"  # Transport & Map\n",
    "    u\"\\U0001F1E0-\\U0001F1FF\"  # Flags\n",
    "    u\"\\U00002700-\\U000027BF\"  # Dingbats\n",
    "    u\"\\U0001F900-\\U0001F9FF\"  # Supplemental Symbols & Pictographs\n",
    "    u\"\\U0001FA70-\\U0001FAFF\"  # Symbols & Pictographs Extended-A\n",
    "    u\"\\U00002600-\\U000026FF\"  # Misc symbols\n",
    "    u\"\\u2600-\\u26FF\"          # mặt trời, mưa, ...\n",
    "    u\"\\u2700-\\u27BF\"          # ký hiệu đặc biệt    \n",
    "    \"]+\", flags=re.UNICODE\n",
    ")\n",
    "# Load file các từ viết tắt\n",
    "file_replace_dict = 'StopWords/vietnamese_replace_dict.json'\n",
    "with open(file_replace_dict, 'r', encoding='utf-8') as f:\n",
    "    replace_dict = json.load(f)\n",
    "\n",
    "def clean_text(text: string): \n",
    "    # Chuyen toan chu hoa thanh chu thuong\n",
    "    text = text.lower()\n",
    "\n",
    "    # Xoa toan bo emoji\n",
    "    text = emoji_pattern.sub('', text)\n",
    "\n",
    "    # Xoa toan bo ki tu dac biet\n",
    "    for character in remove_character:\n",
    "        text = text.replace(character, ' ')\n",
    "\n",
    "    # Thay the toan bo tu viet tat\n",
    "    words = text.split()\n",
    "    words = [replace_dict.get(w, w) for w in words]\n",
    "    text = ' '.join(words)\n",
    "\n",
    "    # Xoa nhieu khoang trang thanh 1 khoang trang\n",
    "    text = re.sub(r'\\s+', ' ', text)\n",
    "    # Xóa những từ có kí tự lặp lại\n",
    "    text =re.sub(r'(.)\\1+', r'\\1+', text)\n",
    "\n",
    "    # Xoa toan bo con so\n",
    "    text = re.sub(r'\\d+','', text)\n",
    "\n",
    "    # Xoa khoang trang o dau dong va cuoi dong\n",
    "    text = text.strip()\n",
    "\n",
    "    return text\n",
    "\n",
    "sentiment_data_df['text'] = sentiment_data_df['text'].apply(clean_text)"
   ]
  },
  {
   "cell_type": "markdown",
   "id": "881f99f9",
   "metadata": {},
   "source": [
    "### Tokenization: Tách từ"
   ]
  },
  {
   "cell_type": "code",
   "execution_count": 183,
   "id": "8082e108",
   "metadata": {},
   "outputs": [],
   "source": [
    "sentiment_data_df['tokens'] = sentiment_data_df[\"text\"].apply(lambda x: word_tokenize(x, format='text'))"
   ]
  },
  {
   "cell_type": "markdown",
   "id": "0ea6009e",
   "metadata": {},
   "source": [
    "### Loai bo stopwords"
   ]
  },
  {
   "cell_type": "code",
   "execution_count": 184,
   "id": "7752662f",
   "metadata": {},
   "outputs": [],
   "source": [
    "stopwords_path_1 = 'StopWords/vietnamese-stopwords.txt'\n",
    "stopwords_path_2 ='StopWords/vietnamese_stopwords.txt'"
   ]
  },
  {
   "cell_type": "code",
   "execution_count": 193,
   "id": "c2d2a62d",
   "metadata": {},
   "outputs": [
    {
     "name": "stdout",
     "output_type": "stream",
     "text": [
      "0\n",
      "0\n"
     ]
    }
   ],
   "source": [
    "with open(stopwords_path_1, 'r', encoding='utf-8') as f:\n",
    "    stopwords_1 = set(line.strip().replace(' ', '_') for line in f)\n",
    "    count =0\n",
    "    for x in stopwords_1:\n",
    "        if (x == \"tạm\"): cout +=1\n",
    "    print(count)\n",
    "   \n",
    "    \n",
    "with open(stopwords_path_2, 'r', encoding='utf-8') as f:\n",
    "    stopwords_2 = set(line.strip() for line in f)\n",
    "    count =0\n",
    "    for x in stopwords_2:\n",
    "        if (x == \"tạm\"): cout +=1\n",
    "    print(count)\n",
    "stopwords = stopwords_1.union(stopwords_2)\n",
    "\n",
    "def remove_stopwords(text):\n",
    "\n",
    "    tokens = text.split() #Chia thanh tung tu\n",
    "\n",
    "    tokens = [word for word in tokens if word not in stopwords if len(word) > 1]\n",
    "\n",
    "    return \" \".join(tokens)\n",
    "\n",
    "\n",
    "sentiment_data_df['tokens'] = sentiment_data_df['tokens'].apply(remove_stopwords)\n"
   ]
  },
  {
   "cell_type": "markdown",
   "id": "dbbe5d22",
   "metadata": {},
   "source": [
    "### Luu lai du lieu sau khi hoan thanh buoc tien xu ly du lieu"
   ]
  },
  {
   "cell_type": "code",
   "execution_count": 186,
   "id": "5dac85f4",
   "metadata": {},
   "outputs": [],
   "source": [
    "sentiment_data_df[['tokens','label']].to_csv('Dataset/vietnamese_sentiment_dataset_processed.csv',index= False, encoding='utf-8')"
   ]
  }
 ],
 "metadata": {
  "kernelspec": {
   "display_name": "Python 3",
   "language": "python",
   "name": "python3"
  },
  "language_info": {
   "codemirror_mode": {
    "name": "ipython",
    "version": 3
   },
   "file_extension": ".py",
   "mimetype": "text/x-python",
   "name": "python",
   "nbconvert_exporter": "python",
   "pygments_lexer": "ipython3",
   "version": "3.13.5"
  }
 },
 "nbformat": 4,
 "nbformat_minor": 5
}
